{
  "nbformat": 4,
  "nbformat_minor": 0,
  "metadata": {
    "colab": {
      "provenance": [],
      "include_colab_link": true
    },
    "kernelspec": {
      "name": "python3",
      "display_name": "Python 3"
    }
  },
  "cells": [
    {
      "cell_type": "markdown",
      "metadata": {
        "id": "view-in-github",
        "colab_type": "text"
      },
      "source": [
        "<a href=\"https://colab.research.google.com/github/lariyumi/ProjetoPraticoPLN/blob/main/C%C3%B3pia_de_2024_Q2_PLN_PROJETO_PR%C3%81TICO.ipynb\" target=\"_parent\"><img src=\"https://colab.research.google.com/assets/colab-badge.svg\" alt=\"Open In Colab\"/></a>"
      ]
    },
    {
      "cell_type": "markdown",
      "metadata": {
        "id": "Y6QILOdpOjwv"
      },
      "source": [
        "# **Processamento de Linguagem Natural [2024-Q2]**\n",
        "Prof. Alexandre Donizeti Alves"
      ]
    },
    {
      "cell_type": "markdown",
      "metadata": {
        "id": "8m67OOx9MX_3"
      },
      "source": [
        "### **PROJETO PRÁTICO** [LangChain + Grandes Modelos de Linguagem + API]\n"
      ]
    },
    {
      "cell_type": "markdown",
      "metadata": {
        "id": "5Gk0nHKabBT-"
      },
      "source": [
        "O **PROJETO PRÁTICO** deve ser feito utilizando o **Google Colab** com uma conta sua vinculada ao Gmail. O link do seu notebook, armazenado no Google Drive, o link de um repositório no GitHub e o link de um vídeo do projeto em execução detalhando os principais resultados da atividade, devem ser enviados usando o seguinte formulário:\n",
        "\n",
        "> https://forms.gle/D4gLqP1iGgyn2hbH8\n",
        "\n",
        "\n",
        "**IMPORTANTE**: A submissão deve ser feita até o dia **08/09 (domingo)** APENAS POR UM INTEGRANTE DA EQUIPE, até às 23h59. Por favor, lembre-se de dar permissão de ACESSO IRRESTRITO para o professor da disciplina de PLN."
      ]
    },
    {
      "cell_type": "markdown",
      "metadata": {
        "id": "D7hJlilKM485"
      },
      "source": [
        "### **EQUIPE**\n",
        "\n",
        "---"
      ]
    },
    {
      "cell_type": "markdown",
      "source": [
        "**POR FAVOR, PREENCHER OS INTEGRANDES DA SUA EQUIPE:**\n",
        "\n",
        "\n",
        "**Integrante 01:**\n",
        "\n",
        "`Por favor, informe o seu nome completo e RA:` Derick Yudji Sato - 11202231905\n",
        "\n",
        "**Integrante 02:**\n",
        "\n",
        "`Por favor, informe o seu nome completo e RA:` Júlia de Oliveira Rodrigues - 11202230721\n",
        "\n",
        "**Integrante 03:**\n",
        "\n",
        "`Por favor, informe o seu nome completo e RA:` Larissa Yumi Ohashi - 11202231795"
      ],
      "metadata": {
        "id": "tnIArN0QY-Ek"
      }
    },
    {
      "cell_type": "markdown",
      "source": [
        "### **GRANDE MODELO DE LINGUAGEM (*Large Language Model - LLM*)**\n",
        "\n",
        "---"
      ],
      "metadata": {
        "id": "VbYD2mw8y4CN"
      }
    },
    {
      "cell_type": "markdown",
      "source": [
        "Cada equipe deve selecionar um Grande Modelo de Linguagem (*Large Language Model - LMM*). Cada modelo pode ser escolhido por até 5 equipes.\n",
        "\n"
      ],
      "metadata": {
        "id": "_UlblxFxzDV-"
      }
    },
    {
      "cell_type": "markdown",
      "source": [
        "Por favor, informe os dados do LLM selecionada:\n",
        "\n",
        ">\n",
        "\n",
        "\n",
        "**LLM**: Cohere (modelo: command-r-plus)\n",
        "\n",
        ">\n",
        "\n",
        "**Link para a documentação oficial**: https://docs.cohere.com\n",
        "\n"
      ],
      "metadata": {
        "id": "a6AkE6iW0c3o"
      }
    },
    {
      "cell_type": "markdown",
      "source": [
        "### **API**\n",
        "---"
      ],
      "metadata": {
        "id": "6yExhaebs-nD"
      }
    },
    {
      "cell_type": "markdown",
      "source": [
        "Por favor, informe os dados da API selecionada:\n",
        "\n",
        "**API**: Dog API\n",
        "\n",
        "**Site oficial**: https://dogapi.dog/\n",
        "\n",
        "**Link para a documentação oficial**: https://dogapi.dog/docs/api-v2\n",
        "\n",
        "\n",
        "\n",
        "\n"
      ],
      "metadata": {
        "id": "DjJM_qhEZRy6"
      }
    },
    {
      "cell_type": "markdown",
      "source": [
        "**IMPORTANTE**: cada **API** pode ser usada por até 4 equipes."
      ],
      "metadata": {
        "id": "bTODq98Myt_u"
      }
    },
    {
      "cell_type": "markdown",
      "metadata": {
        "id": "EtjgWQRzNphL"
      },
      "source": [
        "### **DESCRIÇÃO**\n",
        "---"
      ]
    },
    {
      "cell_type": "markdown",
      "source": [
        "Implementar um `notebook` no `Google Colab` que faça uso do framework **`LangChain`** (obrigatório) e de um **LLM** aplicando, no mínimo, DUAS técnicas de PLN. As técnicas podem ser aplicada em qualquer córpus obtido a partir de uma **API** ou a partir de uma página Web.\n",
        "\n",
        "O **LLM** e a **API** selecionados devem ser informados na seguinte planilha:\n",
        "\n",
        "> https://docs.google.com/spreadsheets/d/1iIUZcwnywO7RuF6VEJ8Rx9NDT1cwteyvsnkhYr0NWtU/edit?usp=sharing\n",
        "\n",
        ">\n",
        "As seguintes técnicas de PLN podem ser usadas:\n",
        "\n",
        "*   Correção Gramatical\n",
        "*   Classificação de Textos\n",
        "*   Análise de Sentimentos\n",
        "*   Detecção de Emoções\n",
        "*   Extração de Palavras-chave\n",
        "*   Tradução de Textos\n",
        "*   Sumarização de Textos\n",
        "*   Similaridade de Textos\n",
        "*   Reconhecimento de Entidades Nomeadas\n",
        "*   Sistemas de Perguntas e Respostas\n",
        ">\n",
        "\n",
        "**IMPORTANTE:** É obrigatório usar o e-mail da UFABC.\n"
      ],
      "metadata": {
        "id": "fXTwkiiGs2BV"
      }
    },
    {
      "cell_type": "markdown",
      "source": [
        "### **CRITÉRIOS DE AVALIAÇÃO**\n",
        "---\n"
      ],
      "metadata": {
        "id": "gWsBYQNtxmum"
      }
    },
    {
      "cell_type": "markdown",
      "source": [
        "Serão considerados como critérios de avaliação os seguintes pontos:\n",
        "\n",
        "* Uso do framework **`LangChain`**.\n",
        "\n",
        "* Escolha e uso de um **LLM**.\n",
        "\n",
        "* Escolha e uso de uma **API**.\n",
        "\n",
        "* Vídeo (5 a 10 minutos).\n",
        "\n",
        "* Criatividade no uso do framework **`LangChain`** em conjunto com o **LLM** e a **API**.\n",
        "\n",
        "\n"
      ],
      "metadata": {
        "id": "5iHdx4BXYruQ"
      }
    },
    {
      "cell_type": "markdown",
      "source": [
        "**IMPORTANTE**: todo o código do notebook deve ser executado. Código sem execução não será considerado."
      ],
      "metadata": {
        "id": "LhwdrMp123Xx"
      }
    },
    {
      "cell_type": "markdown",
      "source": [
        "### **IMPLEMENTAÇÃO**\n",
        "---"
      ],
      "metadata": {
        "id": "nw09lujGvfjc"
      }
    },
    {
      "cell_type": "markdown",
      "source": [
        "Começamos instalando as bibliotecas que serão necessárias para o projeto"
      ],
      "metadata": {
        "id": "CcDPMFyE4oUP"
      }
    },
    {
      "cell_type": "code",
      "source": [
        "!pip install langchain-cohere -q U"
      ],
      "metadata": {
        "id": "RyUailD5vi9E"
      },
      "execution_count": null,
      "outputs": []
    },
    {
      "cell_type": "markdown",
      "source": [
        "Para esse projeto, decidimos usar uma API chamada DogAPI para obter informações de raças de cachorros. Começaremos fazendo a tradução dos textos que a API nos devolve sobre algumas raças."
      ],
      "metadata": {
        "id": "dO6QNt5T9prB"
      }
    },
    {
      "cell_type": "code",
      "source": [
        "import os\n",
        "from google.colab import userdata\n",
        "from langchain_cohere import ChatCohere\n",
        "from langchain_core.prompts import ChatPromptTemplate\n",
        "from langchain_core.output_parsers import StrOutputParser\n",
        "import requests\n",
        "import pandas as pd\n",
        "from IPython.display import Markdown\n",
        "\n",
        "#Definimos as chaves da API Cohere, que é o LLM que iremos utilizar para a execução desse projeto\n",
        "os.environ[\"COHERE_API_KEY\"] = userdata.get('COHERE_API_KEY')\n",
        "\n",
        "#Definimos a url da API (Dog API) de onde tiraremos as informações de raças de cachorros que serão manipuladas e usadas\n",
        "url = \"https://dogapi.dog/api/v2/breeds\"\n",
        "\n",
        "#Relizamos uma requisição à API e pegamos os dados que ela nos retorna\n",
        "response = requests.get(url)\n",
        "dados = response.json()\n",
        "\n",
        "#Transforma os dados que recebemos em json em uma tabela\n",
        "df = pd.json_normalize(dados['data'])\n",
        "\n",
        "#Juntamos as descrições de cada raça em uma única variável\n",
        "descricao_racas = \"\"\n",
        "for descricao in df['attributes.description']:\n",
        "  descricao_racas += descricao\n",
        "  descricao_racas += '\\n'\n",
        "\n",
        "#Definimos o modelo do Cohere que usaremos\n",
        "modelo = ChatCohere(model=\"command-r-plus\")\n",
        "\n",
        "#Definimos o que queremos que seja executado pelo LLM\n",
        "system_template = \"Traduza o texto passado para o idioma {idioma}\"\n",
        "\n",
        "#Definimos um prompt_template, que vai receber o system_template que definimos anteriormente e a descrição das raças, que seria a entrada do usuário.\n",
        "#Nesse caso em específico, a entrada do usuário seria o texto a ser traduzido\n",
        "prompt_template = ChatPromptTemplate.from_messages(\n",
        "    [(\"system\", system_template), (\"user\", descricao_racas)]\n",
        ")\n",
        "\n",
        "#Transforma o output do LLM em uma string\n",
        "parser = StrOutputParser()\n",
        "\n",
        "#Definimos uma cadeia (ou em inglês, chain, que é basicamente uma sequência de chamadas de LLMs ou ferramentas, por exemplo, em sequência)\n",
        "cadeia = prompt_template | modelo | parser\n",
        "\n",
        "#Executamos a chain definida anteriormente e guardamos sua resposta na variável resposta\n",
        "resposta = cadeia.invoke({'idioma': 'português'})\n",
        "\n",
        "#Exibimos a resposta\n",
        "Markdown(resposta)"
      ],
      "metadata": {
        "id": "tC5GnEXPQj4R",
        "colab": {
          "base_uri": "https://localhost:8080/",
          "height": 673
        },
        "outputId": "11aa5a27-2423-4812-c67f-50575ef482d4"
      },
      "execution_count": null,
      "outputs": [
        {
          "output_type": "execute_result",
          "data": {
            "text/plain": [
              "<IPython.core.display.Markdown object>"
            ],
            "text/markdown": "O Cão Pastor do Cáucaso é uma raça grande e poderosa de cão originária da região das Montanhas do Cáucaso. Esses cães são de grande porte, com uma grossa dupla camada para protegê-los do frio. Eles têm uma postura real, com um ar orgulhoso e confiante. São altamente inteligentes e leais, o que os torna excelentes cães de guarda. São corajosos e alertas, com um instinto de proteger sua família e propriedade. São altamente treináveis, mas exigem treinamento firme e consistente.\n\nO Bouvier des Flandres é uma raça grande e poderosa de cão originária da região de Flandres, na Bélgica. Esses cães são de porte muito grande, com uma grossa dupla camada de pêlo duro. Eles têm uma postura digna, mas enérgica, o que os torna excelentes cães de trabalho. São altamente inteligentes e treináveis, com um instinto de proteger sua família e propriedade. São corajosos e leais, com uma natureza independente que os torna bem adequados para o trabalho de pastoreio e guarda.\n\nO Grand Basset Griffon Vendéen é uma raça de médio porte de cão de caça originária da região de Vendéen, na França. Esses cães são de tamanho médio, com uma longa e desgrenhada pelagem. Eles têm uma personalidade enérgica e alegre, com um instinto de caça e rastreamento. São altamente treináveis e inteligentes, mas exigem treinamento firme e consistente para serem obedientes. São leais e dedicados à sua família, mas podem ser teimosos e independentes às vezes.\n\nO Hokkaido é uma raça de médio porte de cão originária da ilha de Hokkaido, no Japão. Esses cães são de tamanho médio, com uma grossa dupla camada de pêlo para protegê-los do frio. Eles têm uma postura digna e leal, o que os torna excelentes cães de guarda e de companhia. São inteligentes e treináveis, mas exigem treinamento firme e consistente para serem obedientes. São corajosos e alertas, com um instinto de proteger sua família e propriedade.\n\nO Terrier Japonês é uma pequena raça de terrier do Japão. Esses cães são pequenos em tamanho, com uma curta e desgrenhada pelagem. Eles têm uma personalidade animada e enérgica, com um instinto de caça. São altamente inteligentes e treináveis, mas exigem treinamento firme e consistente para serem obedientes. São leais e dedicados à sua família, com uma natureza independente que os torna bem adequados para o trabalho de pastoreio e guarda.\n\nO Sabujo de Hanôver é uma raça de médio porte de cão de caça originária da região de Hanôver, na Alemanha. Esses cães são de tamanho médio, com uma curta e desgrenhada pelagem. Eles têm uma personalidade amigável e enérgica, com um instinto de caça e rastreamento. São altamente inteligentes e treináveis, mas exigem treinamento firme e consistente para serem obedientes. São leais e dedicados à sua família, mas podem ser teimosos e independentes às vezes.\n\nO Spaniel Tibetano é uma pequena raça de spaniel do Tibete. Esses cães são pequenos em tamanho, com uma curta e sedosa pelagem. Eles têm uma personalidade alegre e afetuosa, o que os torna excelentes cães de companhia. São altamente treináveis e inteligentes, com um instinto de proteger sua família e propriedade. São leais e dedicados à sua família, mas podem ser teimosos e independentes às vezes.\n\nO Border Collie é uma raça de médio porte de cão de pastoreio originária das fronteiras da Inglaterra e da Escócia. Esses cães são de tamanho médio, com uma grossa dupla camada de pêlo para protegê-los do frio. Eles têm uma personalidade enérgica e inteligente, com um instinto de pastoreio e trabalho. São altamente treináveis e obedientes, mas exigem treinamento firme e consistente para serem obedientes. São leais e dedicados à sua família, com uma natureza independente que os torna bem adequados para o trabalho de pastoreio e guarda.\n\nO Retriever de Pêlo Encaracolado é uma grande raça de cão de busca originária da Inglaterra. Esses cães são de grande porte, com uma pelagem encaracolada. Eles têm uma postura digna e enérgica, o que os torna excelentes cães de trabalho. São altamente inteligentes e treináveis, com um instinto de buscar caça. São leais e dedicados à sua família, com uma natureza independente que os torna bem adequados para o trabalho de busca e guarda.\n\nO Terrier Skye é uma pequena raça de terrier originária da Ilha de Skye, na Escócia. Esses cães são pequenos em tamanho, com uma longa e desgrenhada pelagem. Eles têm uma postura digna e independente, com um instinto de caça. São altamente inteligentes e treináveis, mas exigem treinamento firme e consistente para serem obedientes. São leais e dedicados à sua família, mas podem ser teimosos e independentes às vezes."
          },
          "metadata": {},
          "execution_count": 14
        }
      ]
    },
    {
      "cell_type": "markdown",
      "source": [
        "Em seguida, vamos ver a similaridade na descrição de duas raças diferentes\n",
        "\n",
        "> Adicionar aspas\n",
        "\n"
      ],
      "metadata": {
        "id": "2O-ehP0y993p"
      }
    },
    {
      "cell_type": "code",
      "source": [
        "#Colocamos as descrições das raças em uma matriz\n",
        "matriz_descricoes = [descricao for descricao in df['attributes.description']]\n",
        "\n",
        "#Criamos um dicionário para assim conseguir pegar cada texto da descrição de raça separadamente. Assim, conseguimos selecionar quais descrições queremos comparar\n",
        "descricoes = {f'descricao{i+1}': texto for i, texto in enumerate(matriz_descricoes)}\n",
        "\n",
        "#Definimos o que queremos que seja executado pelo LLM\n",
        "system_template2 = \"Analise o quão similar os dois textos passados são entre si. Dê uma pontuação de 0 a 10 com base em sua similaridade. Cite também de que raças o texto tá falando. Devolva os nomes das raças em português\"\n",
        "\n",
        "#Nesse caso, a entrada do usuário são os textos que queremos comparar e analisar a similaridade\n",
        "prompt_template2 = ChatPromptTemplate.from_messages(\n",
        "    [(\"system\", system_template2), (\"user\", \"Textos: {texto1} e {texto2}\")]\n",
        ")\n",
        "\n",
        "cadeia2 = prompt_template2 | modelo | parser\n",
        "\n",
        "resposta2 = cadeia2.invoke({'texto1': descricoes['descricao1'], 'texto2': descricoes['descricao6']})\n",
        "\n",
        "Markdown(resposta2)"
      ],
      "metadata": {
        "colab": {
          "base_uri": "https://localhost:8080/",
          "height": 167
        },
        "id": "QDPRouKely62",
        "outputId": "a5694038-14e5-4780-dbad-6172ecf2d7d8"
      },
      "execution_count": null,
      "outputs": [
        {
          "output_type": "execute_result",
          "data": {
            "text/plain": [
              "<IPython.core.display.Markdown object>"
            ],
            "text/markdown": "Pontuação de similaridade: 6/10\n\nAmbos os textos descrevem raças de cães com características distintas, mas apresentam algumas similaridades. Ambos enfatizam a inteligência, a lealdade e a necessidade de treinamento firme e consistente. No entanto, as raças diferem em tamanho, tipo de pelagem, personalidade e origem geográfica.\n\nRaças:\n\n1. Caucasian Shepherd Dog (Cão Pastor do Cáucaso)\n2. Hanoverian Scenthound (Sabujos de Hanover)"
          },
          "metadata": {},
          "execution_count": 15
        }
      ]
    },
    {
      "cell_type": "markdown",
      "source": [
        "Por último, definiremos uma classe para nos ajudar na extração da informação de descrições de raças de cachorro."
      ],
      "metadata": {
        "id": "YrJ3rpNo-OoI"
      }
    },
    {
      "cell_type": "code",
      "source": [
        "from typing import Optional\n",
        "\n",
        "from langchain_core.pydantic_v1 import BaseModel, Field\n",
        "\n",
        "#Definimos uma classe Cachorro, que vai ter os atributos raça, origem, porte, pelagem e personalidade\n",
        "class Cachorro(BaseModel):\n",
        "  \"\"\"Informações sobre um cachorro.\"\"\"\n",
        "\n",
        "  raca: Optional[str] = Field(\n",
        "    default=None, description=\"A raça do cachorro\"\n",
        "  )\n",
        "  origem: Optional[str] = Field(\n",
        "    default=None, description=\"De onde a raça de cão é originário\"\n",
        "  )\n",
        "  porte: Optional[str] = Field(\n",
        "    default=None, description=\"Porte do cachorro\"\n",
        "  )\n",
        "  pelagem: Optional[str] = Field(\n",
        "      default=None, description=\"Características da pelagem do cachorro\"\n",
        "  )\n",
        "  personalidade: Optional[str] = Field(\n",
        "    default=None, description=\"Características de como esses cachorros agem e se comportam\"\n",
        "  )"
      ],
      "metadata": {
        "id": "zBppJMScpmuq"
      },
      "execution_count": null,
      "outputs": []
    },
    {
      "cell_type": "code",
      "source": [
        "prompt = ChatPromptTemplate.from_messages(\n",
        "    [\n",
        "        (\n",
        "            \"system\",\n",
        "            \"Você é especializado em extrair informações de textos.\"\n",
        "            \"Extraia as informações do texto, retornando nulo caso não achar um valor adequado para o atributo que você está procurando.\"\n",
        "        ),\n",
        "        (\n",
        "            \"human\",\n",
        "            \"{texto}\"\n",
        "        ),\n",
        "    ]\n",
        ")\n",
        "\n",
        "cadeia3 = prompt | modelo.with_structured_output(schema = Cachorro)\n",
        "\n",
        "#Passamos como o texto da entrada do humano uma das descrições definidas anteriormente no dicionário\n",
        "resposta3 = cadeia3.invoke({'texto': descricoes['descricao8']})\n",
        "\n",
        "#Como a resposta nesse caso é um objeto da classe Cachorro, acessamos seus atributos e vemos se a extração de informação foi bem sucedida\n",
        "Markdown(\"Raça: \" + resposta3.raca + \" - Origem: \" + resposta3.origem + \" - Porte: \" + resposta3.porte + \" - Pelagem: \" + resposta3.pelagem + \" - Personalidade: \" + resposta3.personalidade)"
      ],
      "metadata": {
        "colab": {
          "base_uri": "https://localhost:8080/",
          "height": 46
        },
        "id": "EKuCG2HzsLq9",
        "outputId": "a8c1b191-1228-4218-edce-5a178d107429"
      },
      "execution_count": null,
      "outputs": [
        {
          "output_type": "execute_result",
          "data": {
            "text/plain": [
              "<IPython.core.display.Markdown object>"
            ],
            "text/markdown": "Raça: Border Collie - Origem: fronteiras da Inglaterra e da Escócia - Porte: médio - Pelagem: grossa e dupla - Personalidade: energética e inteligente"
          },
          "metadata": {},
          "execution_count": 17
        }
      ]
    }
  ]
}